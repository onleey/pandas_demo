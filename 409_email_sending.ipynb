{
  "nbformat": 4,
  "nbformat_minor": 0,
  "metadata": {
    "colab": {
      "provenance": [],
      "authorship_tag": "ABX9TyNr04WuU3Q1UF3Sw1iqQtLb",
      "include_colab_link": true
    },
    "kernelspec": {
      "name": "python3",
      "display_name": "Python 3"
    },
    "language_info": {
      "name": "python"
    }
  },
  "cells": [
    {
      "cell_type": "markdown",
      "metadata": {
        "id": "view-in-github",
        "colab_type": "text"
      },
      "source": [
        "<a href=\"https://colab.research.google.com/github/onleey/pandas_demo/blob/master/409_email_sending.ipynb\" target=\"_parent\"><img src=\"https://colab.research.google.com/assets/colab-badge.svg\" alt=\"Open In Colab\"/></a>"
      ]
    },
    {
      "cell_type": "code",
      "execution_count": 1,
      "metadata": {
        "colab": {
          "base_uri": "https://localhost:8080/"
        },
        "id": "4S-zG2FK7B8r",
        "outputId": "fca72ab2-87dc-4653-8506-143353fbae43"
      },
      "outputs": [
        {
          "output_type": "stream",
          "name": "stdout",
          "text": [
            "Mounted at /content/drive\n",
            "/content/drive/MyDrive/001\n"
          ]
        }
      ],
      "source": [
        "from google.colab import drive\n",
        "drive.mount('/content/drive')\n",
        "\n",
        "%cd  '/content/drive/MyDrive/001'"
      ]
    },
    {
      "cell_type": "markdown",
      "source": [
        "## 참고사이트\n",
        "\n",
        "https://docs.python.org/ko/3/library/smtplib.html  \n",
        "\n",
        "https://docs.python.org/ko/3/library/email.html  "
      ],
      "metadata": {
        "id": "BJHRsPqn7dFj"
      }
    },
    {
      "cell_type": "markdown",
      "source": [
        "## 이메일 전송 흐름"
      ],
      "metadata": {
        "id": "n_5Knvfh7_cW"
      }
    },
    {
      "cell_type": "code",
      "source": [
        "import smtplib\n",
        "smtp_info = dict({'smtp_server':'smtp.naver.com',\n",
        "                  'smtp_user_id':'dlwldmsabc@naver.com',\n",
        "                  'smtp_user_pw':'kgcc9300!!',\n",
        "                  'smtp_port': 587 })\n",
        "\n",
        "def send_email(smtp_info,msg):\n",
        "  with smtplib.SMTP(smtp_info['smtp_server'],smtp_info['smtp_port'])as server:\n",
        "   #tls 보안연결\n",
        "    server.starttls()\n",
        "\n",
        "    #로그인\n",
        "    server.login(smtp_info['smtp_user_id'],smtp_info['smtp_user_pw'])\n",
        "\n",
        "    #로그인 된 서버에 이메일 전송\n",
        "    # 메시지를 보낼때는 .as_string()메소드를 사용해서 문자열로 바꿔준다.\n",
        "    response = server.sendmail(msg['from'],msg['to'], msg.as_string())\n",
        "\n",
        "     # 이메일을 정상적으로 보냈으면\n",
        "    if not response :\n",
        "        print('이메일을 성공적으로 보냈습니다. ')\n",
        "    else:\n",
        "        print(response)\n",
        "\n",
        "\n",
        "\n"
      ],
      "metadata": {
        "id": "JiD2cv2V7yfe"
      },
      "execution_count": 5,
      "outputs": []
    },
    {
      "cell_type": "markdown",
      "source": [
        "### 메일 내용 작성 및 파일 첨부하기"
      ],
      "metadata": {
        "id": "VCWiRKxF_RUC"
      }
    },
    {
      "cell_type": "code",
      "source": [
        "import os\n",
        "# 이메일 메시지에 다양한 형식을 중첩하여 담기 위한 객체\n",
        "from email.mime.multipart import MIMEMultipart\n",
        "\n",
        "# 이메일 메시지를 이진 데이터로 바꿔주는 인코더\n",
        "from email import encoders\n",
        "\n",
        "# 텍스트 형식\n",
        "from email.mime.text import MIMEText\n",
        "# 이미지 형식\n",
        "from email.mime.image import MIMEImage\n",
        "# 오디오 형식\n",
        "from email.mime.audio import MIMEAudio\n",
        "\n",
        "# 위의 모든 객체들을 생성할 수 있는 기본 객체\n",
        "# MIMEBase(_maintype, _subtype)\n",
        "# MIMEBase(<메인 타입>, <서브 타입>)\n",
        "from email.mime.base import MIMEBase\n",
        "\n",
        "msg_dict = {\n",
        "    'text' : {'maintype' : 'text', 'subtype' :'plain', 'filename' : 'res/email_sending/test.txt'}, # 텍스트 첨부파일\n",
        "    'image' : {'maintype' : 'image', 'subtype' :'jpg', 'filename' : 'res/email_sending/test.jpg' }, # 이미지 첨부파일\n",
        "    'audio' : {'maintype' : 'audio', 'subtype' :'mp3', 'filename' : 'res/email_sending/test.mp3' }, # 오디오 첨부파일\n",
        "    'video' : {'maintype' : 'video', 'subtype' :'mp4', 'filename' : 'res/email_sending/test.mp4' }, # 비디오 첨부파일\n",
        "    'application' : {'maintype' : 'application', 'subtype' : 'octect-stream', 'filename' : 'res/email_sending/test.pdf'} # 그 외 첨부파일\n",
        "}\n",
        "\n",
        "def make_multimsg(msg_dict):\n",
        "    multi = MIMEMultipart(_subtype='mixed')\n",
        "\n",
        "    for key, value in msg_dict.items():\n",
        "        # 각 타입에 적절한 MIMExxx() 함수를 호출하여 msg 객체를 생성한다.\n",
        "        if key == 'text':\n",
        "            with open(value['filename'], encoding='utf-8') as fp:\n",
        "                msg = MIMEText(fp.read(), _subtype=value['subtype'])\n",
        "        elif key == 'image':\n",
        "            with open(value['filename'], 'rb') as fp:\n",
        "                msg = MIMEImage(fp.read(), _subtype=value['subtype'])\n",
        "        elif key == 'audio':\n",
        "            with open(value['filename'], 'rb') as fp:\n",
        "                msg = MIMEAudio(fp.read(), _subtype=value['subtype'])\n",
        "        else:\n",
        "            with open(value['filename'], 'rb') as fp:\n",
        "                msg = MIMEBase(value['maintype'], _subtype=value['subtype'])\n",
        "                msg.set_payload(fp.read())\n",
        "                encoders.encode_base64(msg)\n",
        "        # 파일 이름을 첨부파일 제목으로 추가\n",
        "        msg.add_header('Content-Disposition', 'attachment',\n",
        "                       filename=os.path.basename(value['filename']))\n",
        "        # 첨부파일 추가\n",
        "        multi.attach(msg)\n",
        "\n",
        "    return multi\n",
        "\n",
        "\n",
        "\n",
        "\n",
        "\n",
        "\n",
        "\n",
        "\n",
        "\n"
      ],
      "metadata": {
        "id": "nEPk0_hu_aeg"
      },
      "execution_count": 7,
      "outputs": []
    },
    {
      "cell_type": "markdown",
      "source": [
        "###이메일 전송 함수 만들기"
      ],
      "metadata": {
        "id": "AHitH049_RTB"
      }
    },
    {
      "cell_type": "code",
      "source": [
        "import os\n",
        "import smtplib\n",
        "\n",
        "\n",
        "\n",
        "# 이메일 메시지에 다양한 형식을 중첩하여 담기 위한 객체\n",
        "from email.mime.multipart import MIMEMultipart\n",
        "\n",
        "# 이메일 메시지를 이진 데이터로 바꿔주는 인코더\n",
        "from email import encoders\n",
        "\n",
        "# 텍스트 형식\n",
        "from email.mime.text import MIMEText\n",
        "# 이미지 형식\n",
        "from email.mime.image import MIMEImage\n",
        "# 오디오 형식\n",
        "from email.mime.audio import MIMEAudio\n",
        "\n",
        "# 위의 모든 객체들을 생성할 수 있는 기본 객체\n",
        "# MIMEBase(_maintype, _subtype)\n",
        "# MIMEBase(<메인 타입>, <서브 타입>)\n",
        "from email.mime.base import MIMEBase\n",
        "\n",
        "def send_email(smtp_info,msg):\n",
        "  with smtplib.SMTP(smtp_info['smtp_server'],smtp_info['smtp_port'])as server:\n",
        "   #tls 보안연결\n",
        "    server.starttls()\n",
        "\n",
        "    #로그인\n",
        "    server.login(smtp_info['smtp_user_id'],smtp_info['smtp_user_pw'])\n",
        "\n",
        "    #로그인 된 서버에 이메일 전송\n",
        "    # 메시지를 보낼때는 .as_string()메소드를 사용해서 문자열로 바꿔준다.\n",
        "    response = server.sendmail(msg['from'],msg['to'], msg.as_string())\n",
        "\n",
        "     # 이메일을 정상적으로 보냈으면\n",
        "    if not response :\n",
        "        print('이메일을 성공적으로 보냈습니다. ')\n",
        "    else:\n",
        "        print(response)\n",
        "\n",
        "def make_multimsg(msg_dict):\n",
        "    multi = MIMEMultipart(_subtype='mixed')\n",
        "\n",
        "    for key, value in msg_dict.items():\n",
        "        # 각 타입에 적절한 MIMExxx() 함수를 호출하여 msg 객체를 생성한다.\n",
        "        if key == 'text':\n",
        "            with open(value['filename'], encoding='utf-8') as fp:\n",
        "                msg = MIMEText(fp.read(), _subtype=value['subtype'])\n",
        "        elif key == 'image':\n",
        "            with open(value['filename'], 'rb') as fp:\n",
        "                msg = MIMEImage(fp.read(), _subtype=value['subtype'])\n",
        "        elif key == 'audio':\n",
        "            with open(value['filename'], 'rb') as fp:\n",
        "                msg = MIMEAudio(fp.read(), _subtype=value['subtype'])\n",
        "        else:\n",
        "            with open(value['filename'], 'rb') as fp:\n",
        "                msg = MIMEBase(value['maintype'], _subtype=value['subtype'])\n",
        "                msg.set_payload(fp.read())\n",
        "                encoders.encode_base64(msg)\n",
        "        # 파일 이름을 첨부파일 제목으로 추가\n",
        "        msg.add_header('Content-Disposition', 'attachment',\n",
        "                       filename=os.path.basename(value['filename']))\n",
        "        # 첨부파일 추가\n",
        "        multi.attach(msg)\n",
        "\n",
        "    return multi\n",
        "\n"
      ],
      "metadata": {
        "id": "1BX1Rvz4-i_i"
      },
      "execution_count": 10,
      "outputs": []
    },
    {
      "cell_type": "markdown",
      "source": [
        "### 텍스트로만 구성된 이메일 보내기"
      ],
      "metadata": {
        "id": "oOhdgj7FHF0l"
      }
    },
    {
      "cell_type": "code",
      "source": [
        "smtp_info = dict({'smtp_server':'smtp.naver.com',\n",
        "                  'smtp_user_id':'dlwldmsabc@naver.com',\n",
        "                  'smtp_user_pw':'kgcc9300!!',\n",
        "                  'smtp_port': 587 })\n",
        "\n",
        "# 메일 내용 작성\n",
        "title ='기본 메일 테스트를 보냅니다.'\n",
        "content= '메일 내용 입니다. 뚱뚱'\n",
        "sender = smtp_info['smtp_user_id']  # 송신자 (sender)\n",
        "receiver = 'go.lee@kakao.com'  #수신자 메일계정\n",
        "\n",
        "msg= MIMEText(_text = content, _charset='utf-8') # 메일내용\n",
        "msg['subject']=title # 제목\n",
        "msg['from'] =sender  #송신자\n",
        "msg['to'] = receiver # 수신자\n",
        "\n",
        "send_email(smtp_info,msg)\n",
        "\n",
        "\n",
        "\n"
      ],
      "metadata": {
        "colab": {
          "base_uri": "https://localhost:8080/"
        },
        "id": "eaK9IeWSHIK1",
        "outputId": "db0199bb-2443-40da-a33e-0644ea0911b7"
      },
      "execution_count": 11,
      "outputs": [
        {
          "output_type": "stream",
          "name": "stdout",
          "text": [
            "이메일을 성공적으로 보냈습니다. \n"
          ]
        }
      ]
    },
    {
      "cell_type": "markdown",
      "source": [
        "텍스트와 다양한 종류의 파일 보내기   "
      ],
      "metadata": {
        "id": "2SjmJKpATG50"
      }
    },
    {
      "cell_type": "markdown",
      "source": [],
      "metadata": {
        "id": "nJqDsV6ETG4o"
      }
    },
    {
      "cell_type": "code",
      "source": [
        "smtp_info = dict({'smtp_server':'smtp.naver.com',\n",
        "                  'smtp_user_id':'dlwldmsabc@naver.com',\n",
        "                  'smtp_user_pw':'kgcc9300!!',\n",
        "                  'smtp_port': 587 })\n",
        "\n",
        "\n",
        "\n",
        "msg_dict = {\n",
        "    'text' : {'maintype' : 'text', 'subtype' :'plain', 'filename' : 'res/email_sending/test.txt'}, # 텍스트 첨부파일\n",
        "    'image' : {'maintype' : 'image', 'subtype' :'jpg', 'filename' : 'res/email_sending/test.jpg' }, # 이미지 첨부파일\n",
        "    'audio' : {'maintype' : 'audio', 'subtype' :'mp3', 'filename' : 'res/email_sending/test.mp3' }, # 오디오 첨부파일\n",
        "    'video' : {'maintype' : 'video', 'subtype' :'mp4', 'filename' : 'res/email_sending/test.mp4' }, # 비디오 첨부파일\n",
        "    'application' : {'maintype' : 'application', 'subtype' : 'octect-stream', 'filename' : 'res/email_sending/test.pdf'} # 그 외 첨부파일\n",
        "}\n",
        "\n",
        "\n",
        "#####################\n",
        "# 메일 내용 작성\n",
        "#####################\n",
        "title = \"첨부파일이 있는 이메일입니다.\"\n",
        "content = \"메일 내용입니다.\"\n",
        "sender = smtp_info['smtp_user_id'] # 송신자(sender) 메일 계정\n",
        "receiver = \"go.lee@kakao.com\"\n",
        "\n",
        "# 메일 내용\n",
        "msg = MIMEText(_text = content, _charset = \"utf-8\")\n",
        "\n",
        "# 첨부파일 추가\n",
        "multi = make_multimsg(msg_dict)\n",
        "multi['Subject'] = title\n",
        "multi['From'] = sender\n",
        "multi['To'] = receiver\n",
        "multi.attach(msg)\n",
        "\n",
        "# 첨부파일이 추가된 이메일 전송\n",
        "send_email(smtp_info, multi )\n",
        "\n",
        "\n"
      ],
      "metadata": {
        "colab": {
          "base_uri": "https://localhost:8080/"
        },
        "id": "ucaJOOzcTFGY",
        "outputId": "9cc57dbd-083b-4e7a-dfc2-403680099371"
      },
      "execution_count": 13,
      "outputs": [
        {
          "output_type": "stream",
          "name": "stdout",
          "text": [
            "이메일을 성공적으로 보냈습니다. \n"
          ]
        }
      ]
    }
  ]
}