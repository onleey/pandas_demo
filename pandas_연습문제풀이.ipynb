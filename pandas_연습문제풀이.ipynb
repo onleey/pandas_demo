{
  "nbformat": 4,
  "nbformat_minor": 0,
  "metadata": {
    "colab": {
      "provenance": [],
      "authorship_tag": "ABX9TyPjeU8FmJ8sp5QEjdaUBALL",
      "include_colab_link": true
    },
    "kernelspec": {
      "name": "python3",
      "display_name": "Python 3"
    },
    "language_info": {
      "name": "python"
    }
  },
  "cells": [
    {
      "cell_type": "markdown",
      "metadata": {
        "id": "view-in-github",
        "colab_type": "text"
      },
      "source": [
        "<a href=\"https://colab.research.google.com/github/onleey/pandas_demo/blob/master/pandas_%EC%97%B0%EC%8A%B5%EB%AC%B8%EC%A0%9C%ED%92%80%EC%9D%B4.ipynb\" target=\"_parent\"><img src=\"https://colab.research.google.com/assets/colab-badge.svg\" alt=\"Open In Colab\"/></a>"
      ]
    },
    {
      "cell_type": "markdown",
      "source": [
        "https://wikidocs.net/135645"
      ],
      "metadata": {
        "id": "oWdw-wexdmtw"
      }
    },
    {
      "cell_type": "code",
      "source": [
        "import numpy as np\n",
        "import pandas as pd"
      ],
      "metadata": {
        "id": "Xoy5daNzdpHw"
      },
      "execution_count": null,
      "outputs": []
    },
    {
      "cell_type": "code",
      "source": [
        "arr= np.arange(100,105)\n",
        "arr"
      ],
      "metadata": {
        "colab": {
          "base_uri": "https://localhost:8080/"
        },
        "id": "6YFLqibNd08u",
        "outputId": "647e1bcc-27af-4864-c46d-b54157450ee2"
      },
      "execution_count": null,
      "outputs": [
        {
          "output_type": "execute_result",
          "data": {
            "text/plain": [
              "array([100, 101, 102, 103, 104])"
            ]
          },
          "metadata": {},
          "execution_count": 12
        }
      ]
    },
    {
      "cell_type": "code",
      "source": [
        "s = pd.Series(arr)\n",
        "s\n",
        "print(type(s))"
      ],
      "metadata": {
        "colab": {
          "base_uri": "https://localhost:8080/"
        },
        "id": "ILGWdJ4lesdX",
        "outputId": "c7e4161e-0fe5-4f3e-d415-002c1d6b5ad5"
      },
      "execution_count": null,
      "outputs": [
        {
          "output_type": "stream",
          "name": "stdout",
          "text": [
            "<class 'pandas.core.series.Series'>\n"
          ]
        }
      ]
    },
    {
      "cell_type": "code",
      "source": [
        "s = pd.Series(arr, dtype='int32')\n",
        "s"
      ],
      "metadata": {
        "colab": {
          "base_uri": "https://localhost:8080/"
        },
        "id": "44YXGp8-e-Nt",
        "outputId": "a11358e5-32ac-4c0f-ead0-07585d366115"
      },
      "execution_count": null,
      "outputs": [
        {
          "output_type": "execute_result",
          "data": {
            "text/plain": [
              "0    100\n",
              "1    101\n",
              "2    102\n",
              "3    103\n",
              "4    104\n",
              "dtype: int32"
            ]
          },
          "metadata": {},
          "execution_count": 19
        }
      ]
    },
    {
      "cell_type": "code",
      "source": [
        "s = pd.Series(['사원','대리','과장','차장','부장','이사'])\n",
        "s\n"
      ],
      "metadata": {
        "colab": {
          "base_uri": "https://localhost:8080/"
        },
        "id": "KvS6PUF1fI8l",
        "outputId": "283fddfc-3128-4c80-a3ab-eedc8fa1128c"
      },
      "execution_count": null,
      "outputs": [
        {
          "output_type": "execute_result",
          "data": {
            "text/plain": [
              "0    사원\n",
              "1    대리\n",
              "2    과장\n",
              "3    차장\n",
              "4    부장\n",
              "5    이사\n",
              "dtype: object"
            ]
          },
          "metadata": {},
          "execution_count": 24
        }
      ]
    },
    {
      "cell_type": "code",
      "source": [
        "s = pd.Series(['사원',1,0.14,'차장','부장','이사'])\n",
        "s"
      ],
      "metadata": {
        "colab": {
          "base_uri": "https://localhost:8080/"
        },
        "id": "ASn0TCfgfYaW",
        "outputId": "83a1058e-204a-4df5-e0e6-6b43290b7e78"
      },
      "execution_count": null,
      "outputs": [
        {
          "output_type": "execute_result",
          "data": {
            "text/plain": [
              "0      사원\n",
              "1       1\n",
              "2    0.14\n",
              "3      차장\n",
              "4      부장\n",
              "5      이사\n",
              "dtype: object"
            ]
          },
          "metadata": {},
          "execution_count": 26
        }
      ]
    },
    {
      "cell_type": "code",
      "source": [
        "s = pd.Series(['사원','대리','과장','차장','부장','이사'])\n",
        "s[[1, 3]]\n"
      ],
      "metadata": {
        "colab": {
          "base_uri": "https://localhost:8080/"
        },
        "id": "ixKAN8mXfkkN",
        "outputId": "0cbf064e-1198-4e2e-f974-9388ee8d47d8"
      },
      "execution_count": null,
      "outputs": [
        {
          "output_type": "execute_result",
          "data": {
            "text/plain": [
              "1    대리\n",
              "3    차장\n",
              "dtype: object"
            ]
          },
          "metadata": {},
          "execution_count": 38
        }
      ]
    },
    {
      "cell_type": "code",
      "source": [
        "s[np.arange(1,4,2)]"
      ],
      "metadata": {
        "colab": {
          "base_uri": "https://localhost:8080/"
        },
        "id": "yOflkcwugEK9",
        "outputId": "f3362cf7-53c5-4c48-ca15-a9170325ca6d"
      },
      "execution_count": null,
      "outputs": [
        {
          "output_type": "execute_result",
          "data": {
            "text/plain": [
              "1    대리\n",
              "3    차장\n",
              "dtype: object"
            ]
          },
          "metadata": {},
          "execution_count": 42
        }
      ]
    },
    {
      "cell_type": "code",
      "source": [
        "np.random.seed(0)\n",
        "s = pd.Series(np.random.randint(10000,20000, size=(10,)))\n",
        "s"
      ],
      "metadata": {
        "colab": {
          "base_uri": "https://localhost:8080/"
        },
        "id": "0B0Lr3kIgEKF",
        "outputId": "1b8f407a-23fd-4294-a33d-d407c94eb68c"
      },
      "execution_count": null,
      "outputs": [
        {
          "output_type": "execute_result",
          "data": {
            "text/plain": [
              "0    12732\n",
              "1    19845\n",
              "2    13264\n",
              "3    14859\n",
              "4    19225\n",
              "5    17891\n",
              "6    14373\n",
              "7    15874\n",
              "8    16744\n",
              "9    13468\n",
              "dtype: int64"
            ]
          },
          "metadata": {},
          "execution_count": 46
        }
      ]
    },
    {
      "cell_type": "code",
      "source": [
        "s [s>18000]"
      ],
      "metadata": {
        "colab": {
          "base_uri": "https://localhost:8080/"
        },
        "id": "uR5g52XAgoIs",
        "outputId": "065d4c12-69ad-4bd8-f2b1-0f9f6d767009"
      },
      "execution_count": null,
      "outputs": [
        {
          "output_type": "execute_result",
          "data": {
            "text/plain": [
              "1    19845\n",
              "4    19225\n",
              "dtype: int64"
            ]
          },
          "metadata": {},
          "execution_count": 48
        }
      ]
    },
    {
      "cell_type": "code",
      "source": [
        "s = pd.Series(['마케팅', '경영', '개발', '기획', '인사'], index=['a', 'b', 'c', 'd', 'e'])\n",
        "s\n"
      ],
      "metadata": {
        "colab": {
          "base_uri": "https://localhost:8080/"
        },
        "id": "jt_Pxf7ngx4P",
        "outputId": "ca8840fb-7223-4cd7-db9e-d3e5e735a8ff"
      },
      "execution_count": null,
      "outputs": [
        {
          "output_type": "execute_result",
          "data": {
            "text/plain": [
              "a    마케팅\n",
              "b     경영\n",
              "c     개발\n",
              "d     기획\n",
              "e     인사\n",
              "dtype: object"
            ]
          },
          "metadata": {},
          "execution_count": 50
        }
      ]
    },
    {
      "cell_type": "code",
      "source": [
        "s.index"
      ],
      "metadata": {
        "colab": {
          "base_uri": "https://localhost:8080/"
        },
        "id": "OGYTubqjhAV7",
        "outputId": "c7d76986-508b-461b-d312-dd6c9d42a955"
      },
      "execution_count": null,
      "outputs": [
        {
          "output_type": "execute_result",
          "data": {
            "text/plain": [
              "Index(['a', 'b', 'c', 'd', 'e'], dtype='object')"
            ]
          },
          "metadata": {},
          "execution_count": 51
        }
      ]
    },
    {
      "cell_type": "code",
      "source": [
        "s['d']"
      ],
      "metadata": {
        "colab": {
          "base_uri": "https://localhost:8080/",
          "height": 35
        },
        "id": "xaMUJcwmhAVL",
        "outputId": "85dcea7f-ca7b-4098-d001-3486f229026f"
      },
      "execution_count": null,
      "outputs": [
        {
          "output_type": "execute_result",
          "data": {
            "text/plain": [
              "'기획'"
            ],
            "application/vnd.google.colaboratory.intrinsic+json": {
              "type": "string"
            }
          },
          "metadata": {},
          "execution_count": 54
        }
      ]
    },
    {
      "cell_type": "code",
      "source": [
        "s.index = list('abcde')\n",
        "s"
      ],
      "metadata": {
        "colab": {
          "base_uri": "https://localhost:8080/"
        },
        "id": "vZhvx70khWab",
        "outputId": "3323782d-24ed-41f8-b992-8a76883c8534"
      },
      "execution_count": null,
      "outputs": [
        {
          "output_type": "execute_result",
          "data": {
            "text/plain": [
              "a    마케팅\n",
              "b     경영\n",
              "c     개발\n",
              "d     기획\n",
              "e     인사\n",
              "dtype: object"
            ]
          },
          "metadata": {},
          "execution_count": 56
        }
      ]
    },
    {
      "cell_type": "code",
      "source": [
        "s.values"
      ],
      "metadata": {
        "colab": {
          "base_uri": "https://localhost:8080/"
        },
        "id": "kfHhoiOPhhoE",
        "outputId": "6a844599-1b2f-4dee-feab-30cb781f278e"
      },
      "execution_count": null,
      "outputs": [
        {
          "output_type": "execute_result",
          "data": {
            "text/plain": [
              "array(['마케팅', '경영', '개발', '기획', '인사'], dtype=object)"
            ]
          },
          "metadata": {},
          "execution_count": 58
        }
      ]
    },
    {
      "cell_type": "code",
      "source": [
        "s.ndim  #시리즈, 속성"
      ],
      "metadata": {
        "colab": {
          "base_uri": "https://localhost:8080/"
        },
        "id": "tSfhdnhLhu2h",
        "outputId": "00b73d47-94df-4db0-d040-7ba914c10115"
      },
      "execution_count": null,
      "outputs": [
        {
          "output_type": "execute_result",
          "data": {
            "text/plain": [
              "1"
            ]
          },
          "metadata": {},
          "execution_count": 59
        }
      ]
    },
    {
      "cell_type": "code",
      "source": [
        "import pandas as pd\n",
        "import numpy as np\n"
      ],
      "metadata": {
        "id": "Am0JoOQIcMi_"
      },
      "execution_count": 8,
      "outputs": []
    },
    {
      "cell_type": "code",
      "source": [
        "pd.Series(np.arange(3,12,2), dtype='float32')"
      ],
      "metadata": {
        "id": "b1-PERo7hu1k",
        "colab": {
          "base_uri": "https://localhost:8080/"
        },
        "outputId": "fb70b25a-6d8d-40f4-f618-ab5d47c54f15"
      },
      "execution_count": 10,
      "outputs": [
        {
          "output_type": "execute_result",
          "data": {
            "text/plain": [
              "0     3.0\n",
              "1     5.0\n",
              "2     7.0\n",
              "3     9.0\n",
              "4    11.0\n",
              "dtype: float32"
            ]
          },
          "metadata": {},
          "execution_count": 10
        }
      ]
    },
    {
      "cell_type": "code",
      "source": [
        "pd. Series(['가','나','다','라','마'])"
      ],
      "metadata": {
        "colab": {
          "base_uri": "https://localhost:8080/"
        },
        "id": "dg0TuTC9dAKd",
        "outputId": "41d404b0-af0f-4623-e283-a48a1e0751de"
      },
      "execution_count": 11,
      "outputs": [
        {
          "output_type": "execute_result",
          "data": {
            "text/plain": [
              "0    가\n",
              "1    나\n",
              "2    다\n",
              "3    라\n",
              "4    마\n",
              "dtype: object"
            ]
          },
          "metadata": {},
          "execution_count": 11
        }
      ]
    },
    {
      "cell_type": "code",
      "source": [
        "sample = pd. Series([10,20,30,40,50],index=['가','나','다','라','마'])\n",
        "sample"
      ],
      "metadata": {
        "colab": {
          "base_uri": "https://localhost:8080/"
        },
        "id": "ArVR6cj7dWM3",
        "outputId": "3457e869-7a3b-4f39-b832-5974af23fb59"
      },
      "execution_count": 21,
      "outputs": [
        {
          "output_type": "execute_result",
          "data": {
            "text/plain": [
              "가    10\n",
              "나    20\n",
              "다    30\n",
              "라    40\n",
              "마    50\n",
              "dtype: int64"
            ]
          },
          "metadata": {},
          "execution_count": 21
        }
      ]
    },
    {
      "cell_type": "code",
      "source": [
        "sample[['나','라']]"
      ],
      "metadata": {
        "colab": {
          "base_uri": "https://localhost:8080/"
        },
        "id": "3RZ0xbGSeKfV",
        "outputId": "82ce5148-496f-4233-feaa-8d1f6d4eab5e"
      },
      "execution_count": 22,
      "outputs": [
        {
          "output_type": "execute_result",
          "data": {
            "text/plain": [
              "나    20\n",
              "라    40\n",
              "dtype: int64"
            ]
          },
          "metadata": {},
          "execution_count": 22
        }
      ]
    },
    {
      "cell_type": "code",
      "source": [
        "np.random.seed(20)\n",
        "sample2 = pd.Series(np.random.randint(100, 200, size=(15,)))\n",
        "\n",
        "sample2[sample2<= 160]\n",
        "\n",
        "\n"
      ],
      "metadata": {
        "colab": {
          "base_uri": "https://localhost:8080/"
        },
        "id": "G1LCtD6wfsun",
        "outputId": "ea6488b8-93fb-41a6-8e5c-d64505148fe1"
      },
      "execution_count": 27,
      "outputs": [
        {
          "output_type": "execute_result",
          "data": {
            "text/plain": [
              "2     115\n",
              "4     128\n",
              "6     109\n",
              "7     120\n",
              "9     122\n",
              "11    134\n",
              "13    140\n",
              "dtype: int64"
            ]
          },
          "metadata": {},
          "execution_count": 27
        }
      ]
    },
    {
      "cell_type": "code",
      "source": [],
      "metadata": {
        "id": "xxjuMUg8iuDl"
      },
      "execution_count": null,
      "outputs": []
    },
    {
      "cell_type": "code",
      "source": [
        "np.random.seed(20)\n",
        "sample2 = pd.Series(np.random.randint(100, 200, size=(15,)))\n",
        "\n",
        "sample2[(sample2 <= 170) & (sample2 >= 130)]\n",
        "\n",
        "\n"
      ],
      "metadata": {
        "colab": {
          "base_uri": "https://localhost:8080/"
        },
        "outputId": "18e6cef3-aa08-4a66-b04a-4ab6f8dc629e",
        "id": "8095oP2TiyKc"
      },
      "execution_count": 34,
      "outputs": [
        {
          "output_type": "execute_result",
          "data": {
            "text/plain": [
              "11    134\n",
              "13    140\n",
              "dtype: int64"
            ]
          },
          "metadata": {},
          "execution_count": 34
        }
      ]
    },
    {
      "cell_type": "code",
      "source": [
        "pd.Series (['apple','Nan','banana','kiwi','gubong'], index=('가','나','다','라','마'))"
      ],
      "metadata": {
        "colab": {
          "base_uri": "https://localhost:8080/"
        },
        "id": "eWRrRCqnpM-0",
        "outputId": "e8778cc0-9b9b-4fe8-bf16-d24938fe0a27"
      },
      "execution_count": 35,
      "outputs": [
        {
          "output_type": "execute_result",
          "data": {
            "text/plain": [
              "가     apple\n",
              "나       Nan\n",
              "다    banana\n",
              "라      kiwi\n",
              "마    gubong\n",
              "dtype: object"
            ]
          },
          "metadata": {},
          "execution_count": 35
        }
      ]
    },
    {
      "cell_type": "code",
      "source": [
        "sample = pd.Series(['IT서비스', np.nan, '반도체', np.nan, '바이오', '자율주행'])\n",
        "sample\n"
      ],
      "metadata": {
        "colab": {
          "base_uri": "https://localhost:8080/"
        },
        "id": "79NKfiGIp7ze",
        "outputId": "aa94f912-c118-4694-bf3b-16fd0fec7f24"
      },
      "execution_count": 43,
      "outputs": [
        {
          "output_type": "execute_result",
          "data": {
            "text/plain": [
              "0    IT서비스\n",
              "1      NaN\n",
              "2      반도체\n",
              "3      NaN\n",
              "4      바이오\n",
              "5     자율주행\n",
              "dtype: object"
            ]
          },
          "metadata": {},
          "execution_count": 43
        }
      ]
    },
    {
      "cell_type": "code",
      "source": [
        "sample[[1,3]]"
      ],
      "metadata": {
        "colab": {
          "base_uri": "https://localhost:8080/"
        },
        "id": "EKWZiwSAqZ72",
        "outputId": "c1d91b99-e65d-4448-c620-1a94c98c06ca"
      },
      "execution_count": 44,
      "outputs": [
        {
          "output_type": "execute_result",
          "data": {
            "text/plain": [
              "1    NaN\n",
              "3    NaN\n",
              "dtype: object"
            ]
          },
          "metadata": {},
          "execution_count": 44
        }
      ]
    },
    {
      "cell_type": "code",
      "source": [
        "sample[sample.isnull()]"
      ],
      "metadata": {
        "colab": {
          "base_uri": "https://localhost:8080/"
        },
        "id": "OmO0QWE_qg7w",
        "outputId": "30cc6b47-d388-45ff-c219-7b78a1b6ce54"
      },
      "execution_count": 45,
      "outputs": [
        {
          "output_type": "execute_result",
          "data": {
            "text/plain": [
              "1    NaN\n",
              "3    NaN\n",
              "dtype: object"
            ]
          },
          "metadata": {},
          "execution_count": 45
        }
      ]
    },
    {
      "cell_type": "code",
      "source": [
        "sample[sample.notnull()]"
      ],
      "metadata": {
        "colab": {
          "base_uri": "https://localhost:8080/"
        },
        "id": "Rh3xHk54qvO5",
        "outputId": "84e6d642-b763-45b8-af2e-c985b19cf5b8"
      },
      "execution_count": 47,
      "outputs": [
        {
          "output_type": "execute_result",
          "data": {
            "text/plain": [
              "0    IT서비스\n",
              "2      반도체\n",
              "4      바이오\n",
              "5     자율주행\n",
              "dtype: object"
            ]
          },
          "metadata": {},
          "execution_count": 47
        }
      ]
    },
    {
      "cell_type": "code",
      "source": [
        "np.random.seed(0)\n",
        "sample = pd.Series(np.random.randint(100, 200, size=(10,)))\n",
        "sample\n"
      ],
      "metadata": {
        "colab": {
          "base_uri": "https://localhost:8080/"
        },
        "id": "hfoR9aFPr8fS",
        "outputId": "5c713de3-ae82-4937-948d-dc75f5205adb"
      },
      "execution_count": 48,
      "outputs": [
        {
          "output_type": "execute_result",
          "data": {
            "text/plain": [
              "0    144\n",
              "1    147\n",
              "2    164\n",
              "3    167\n",
              "4    167\n",
              "5    109\n",
              "6    183\n",
              "7    121\n",
              "8    136\n",
              "9    187\n",
              "dtype: int64"
            ]
          },
          "metadata": {},
          "execution_count": 48
        }
      ]
    },
    {
      "cell_type": "code",
      "source": [
        "sample[range(2,7)]"
      ],
      "metadata": {
        "colab": {
          "base_uri": "https://localhost:8080/"
        },
        "id": "KH1_xuwPsH2y",
        "outputId": "84928fce-bef1-4d58-ce68-8577942693d3"
      },
      "execution_count": 52,
      "outputs": [
        {
          "output_type": "execute_result",
          "data": {
            "text/plain": [
              "2    164\n",
              "3    167\n",
              "4    167\n",
              "5    109\n",
              "6    183\n",
              "dtype: int64"
            ]
          },
          "metadata": {},
          "execution_count": 52
        }
      ]
    },
    {
      "cell_type": "code",
      "source": [
        "np.random.seed(0)\n",
        "sample2 = pd.Series(np.random.randint(100, 200, size=(10,)), index=list('가나다라마바사아자차'))\n",
        "sample2\n"
      ],
      "metadata": {
        "colab": {
          "base_uri": "https://localhost:8080/"
        },
        "id": "i1OM5S1BsWz0",
        "outputId": "1114c150-f3bd-4a0e-a67d-107021a11a6f"
      },
      "execution_count": 53,
      "outputs": [
        {
          "output_type": "execute_result",
          "data": {
            "text/plain": [
              "가    144\n",
              "나    147\n",
              "다    164\n",
              "라    167\n",
              "마    167\n",
              "바    109\n",
              "사    183\n",
              "아    121\n",
              "자    136\n",
              "차    187\n",
              "dtype: int64"
            ]
          },
          "metadata": {},
          "execution_count": 53
        }
      ]
    },
    {
      "cell_type": "code",
      "source": [
        "sample2['바':]"
      ],
      "metadata": {
        "colab": {
          "base_uri": "https://localhost:8080/"
        },
        "id": "NAw4_SZnsl9d",
        "outputId": "24432296-c8df-484b-a84b-2741f9d7097e"
      },
      "execution_count": 65,
      "outputs": [
        {
          "output_type": "execute_result",
          "data": {
            "text/plain": [
              "바    109\n",
              "사    183\n",
              "아    121\n",
              "자    136\n",
              "차    187\n",
              "dtype: int64"
            ]
          },
          "metadata": {},
          "execution_count": 65
        }
      ]
    },
    {
      "cell_type": "code",
      "source": [
        "sample2['가':'다':1]"
      ],
      "metadata": {
        "colab": {
          "base_uri": "https://localhost:8080/"
        },
        "id": "Po_X29k_s8l4",
        "outputId": "431a27fa-7c94-4db3-c009-32ee89ff182d"
      },
      "execution_count": 68,
      "outputs": [
        {
          "output_type": "execute_result",
          "data": {
            "text/plain": [
              "가    144\n",
              "나    147\n",
              "다    164\n",
              "dtype: int64"
            ]
          },
          "metadata": {},
          "execution_count": 68
        }
      ]
    },
    {
      "cell_type": "code",
      "source": [
        "sample2['가':'바']"
      ],
      "metadata": {
        "colab": {
          "base_uri": "https://localhost:8080/"
        },
        "id": "_xME2p8JtwZ8",
        "outputId": "b7ef9956-f2ee-4f2d-cdaa-2031ec8be149"
      },
      "execution_count": 69,
      "outputs": [
        {
          "output_type": "execute_result",
          "data": {
            "text/plain": [
              "가    144\n",
              "나    147\n",
              "다    164\n",
              "라    167\n",
              "마    167\n",
              "바    109\n",
              "dtype: int64"
            ]
          },
          "metadata": {},
          "execution_count": 69
        }
      ]
    }
  ]
}