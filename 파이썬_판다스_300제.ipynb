{
  "nbformat": 4,
  "nbformat_minor": 0,
  "metadata": {
    "colab": {
      "provenance": [],
      "authorship_tag": "ABX9TyNuI5pgPpvc3uMq3KHeWB+/",
      "include_colab_link": true
    },
    "kernelspec": {
      "name": "python3",
      "display_name": "Python 3"
    },
    "language_info": {
      "name": "python"
    }
  },
  "cells": [
    {
      "cell_type": "markdown",
      "metadata": {
        "id": "view-in-github",
        "colab_type": "text"
      },
      "source": [
        "<a href=\"https://colab.research.google.com/github/onleey/pandas_demo/blob/master/%ED%8C%8C%EC%9D%B4%EC%8D%AC_%ED%8C%90%EB%8B%A4%EC%8A%A4_300%EC%A0%9C.ipynb\" target=\"_parent\"><img src=\"https://colab.research.google.com/assets/colab-badge.svg\" alt=\"Open In Colab\"/></a>"
      ]
    },
    {
      "cell_type": "markdown",
      "source": [
        "\n",
        "https://wikidocs.net/125545\n",
        "\n"
      ],
      "metadata": {
        "id": "BF-Uq1PSbX8m"
      }
    },
    {
      "cell_type": "code",
      "execution_count": 1,
      "metadata": {
        "id": "iJKJFQ27WnvP"
      },
      "outputs": [],
      "source": [
        "import numpy as np"
      ]
    },
    {
      "cell_type": "code",
      "source": [
        "data = [1, 2, 3]\n",
        "\n",
        "\n",
        "np.array(data)\n"
      ],
      "metadata": {
        "colab": {
          "base_uri": "https://localhost:8080/"
        },
        "id": "UlLs3BWcXCOu",
        "outputId": "742d2e0e-e1e3-48a9-a179-b6ddc341a086"
      },
      "execution_count": 2,
      "outputs": [
        {
          "output_type": "execute_result",
          "data": {
            "text/plain": [
              "array([1, 2, 3])"
            ]
          },
          "metadata": {},
          "execution_count": 2
        }
      ]
    },
    {
      "cell_type": "code",
      "source": [
        "np.array(range(0,100))\n",
        "\n",
        "np.arange(0,100)"
      ],
      "metadata": {
        "colab": {
          "base_uri": "https://localhost:8080/"
        },
        "id": "xwmdVXrVYeBd",
        "outputId": "5e7e71b7-6f1f-4806-9711-d022f01e201b"
      },
      "execution_count": 8,
      "outputs": [
        {
          "output_type": "execute_result",
          "data": {
            "text/plain": [
              "array([ 0,  1,  2,  3,  4,  5,  6,  7,  8,  9, 10, 11, 12, 13, 14, 15, 16,\n",
              "       17, 18, 19, 20, 21, 22, 23, 24, 25, 26, 27, 28, 29, 30, 31, 32, 33,\n",
              "       34, 35, 36, 37, 38, 39, 40, 41, 42, 43, 44, 45, 46, 47, 48, 49, 50,\n",
              "       51, 52, 53, 54, 55, 56, 57, 58, 59, 60, 61, 62, 63, 64, 65, 66, 67,\n",
              "       68, 69, 70, 71, 72, 73, 74, 75, 76, 77, 78, 79, 80, 81, 82, 83, 84,\n",
              "       85, 86, 87, 88, 89, 90, 91, 92, 93, 94, 95, 96, 97, 98, 99])"
            ]
          },
          "metadata": {},
          "execution_count": 8
        }
      ]
    },
    {
      "cell_type": "code",
      "source": [
        "arr = np.arange(1,10)*3\n",
        "arr"
      ],
      "metadata": {
        "colab": {
          "base_uri": "https://localhost:8080/"
        },
        "id": "8OS2_NSqY5hN",
        "outputId": "b8bf4bc6-42a9-4a2b-a4ff-5f74196ac257"
      },
      "execution_count": 10,
      "outputs": [
        {
          "output_type": "execute_result",
          "data": {
            "text/plain": [
              "array([ 3,  6,  9, 12, 15, 18, 21, 24, 27])"
            ]
          },
          "metadata": {},
          "execution_count": 10
        }
      ]
    },
    {
      "cell_type": "code",
      "source": [
        "np.arange(2,1000,2)"
      ],
      "metadata": {
        "colab": {
          "base_uri": "https://localhost:8080/"
        },
        "id": "C-e_eMOFZWsd",
        "outputId": "e52e4512-fc90-43d5-85c1-b1e65cc979bc"
      },
      "execution_count": 19,
      "outputs": [
        {
          "output_type": "execute_result",
          "data": {
            "text/plain": [
              "array([  2,   4,   6,   8,  10,  12,  14,  16,  18,  20,  22,  24,  26,\n",
              "        28,  30,  32,  34,  36,  38,  40,  42,  44,  46,  48,  50,  52,\n",
              "        54,  56,  58,  60,  62,  64,  66,  68,  70,  72,  74,  76,  78,\n",
              "        80,  82,  84,  86,  88,  90,  92,  94,  96,  98, 100, 102, 104,\n",
              "       106, 108, 110, 112, 114, 116, 118, 120, 122, 124, 126, 128, 130,\n",
              "       132, 134, 136, 138, 140, 142, 144, 146, 148, 150, 152, 154, 156,\n",
              "       158, 160, 162, 164, 166, 168, 170, 172, 174, 176, 178, 180, 182,\n",
              "       184, 186, 188, 190, 192, 194, 196, 198, 200, 202, 204, 206, 208,\n",
              "       210, 212, 214, 216, 218, 220, 222, 224, 226, 228, 230, 232, 234,\n",
              "       236, 238, 240, 242, 244, 246, 248, 250, 252, 254, 256, 258, 260,\n",
              "       262, 264, 266, 268, 270, 272, 274, 276, 278, 280, 282, 284, 286,\n",
              "       288, 290, 292, 294, 296, 298, 300, 302, 304, 306, 308, 310, 312,\n",
              "       314, 316, 318, 320, 322, 324, 326, 328, 330, 332, 334, 336, 338,\n",
              "       340, 342, 344, 346, 348, 350, 352, 354, 356, 358, 360, 362, 364,\n",
              "       366, 368, 370, 372, 374, 376, 378, 380, 382, 384, 386, 388, 390,\n",
              "       392, 394, 396, 398, 400, 402, 404, 406, 408, 410, 412, 414, 416,\n",
              "       418, 420, 422, 424, 426, 428, 430, 432, 434, 436, 438, 440, 442,\n",
              "       444, 446, 448, 450, 452, 454, 456, 458, 460, 462, 464, 466, 468,\n",
              "       470, 472, 474, 476, 478, 480, 482, 484, 486, 488, 490, 492, 494,\n",
              "       496, 498, 500, 502, 504, 506, 508, 510, 512, 514, 516, 518, 520,\n",
              "       522, 524, 526, 528, 530, 532, 534, 536, 538, 540, 542, 544, 546,\n",
              "       548, 550, 552, 554, 556, 558, 560, 562, 564, 566, 568, 570, 572,\n",
              "       574, 576, 578, 580, 582, 584, 586, 588, 590, 592, 594, 596, 598,\n",
              "       600, 602, 604, 606, 608, 610, 612, 614, 616, 618, 620, 622, 624,\n",
              "       626, 628, 630, 632, 634, 636, 638, 640, 642, 644, 646, 648, 650,\n",
              "       652, 654, 656, 658, 660, 662, 664, 666, 668, 670, 672, 674, 676,\n",
              "       678, 680, 682, 684, 686, 688, 690, 692, 694, 696, 698, 700, 702,\n",
              "       704, 706, 708, 710, 712, 714, 716, 718, 720, 722, 724, 726, 728,\n",
              "       730, 732, 734, 736, 738, 740, 742, 744, 746, 748, 750, 752, 754,\n",
              "       756, 758, 760, 762, 764, 766, 768, 770, 772, 774, 776, 778, 780,\n",
              "       782, 784, 786, 788, 790, 792, 794, 796, 798, 800, 802, 804, 806,\n",
              "       808, 810, 812, 814, 816, 818, 820, 822, 824, 826, 828, 830, 832,\n",
              "       834, 836, 838, 840, 842, 844, 846, 848, 850, 852, 854, 856, 858,\n",
              "       860, 862, 864, 866, 868, 870, 872, 874, 876, 878, 880, 882, 884,\n",
              "       886, 888, 890, 892, 894, 896, 898, 900, 902, 904, 906, 908, 910,\n",
              "       912, 914, 916, 918, 920, 922, 924, 926, 928, 930, 932, 934, 936,\n",
              "       938, 940, 942, 944, 946, 948, 950, 952, 954, 956, 958, 960, 962,\n",
              "       964, 966, 968, 970, 972, 974, 976, 978, 980, 982, 984, 986, 988,\n",
              "       990, 992, 994, 996, 998])"
            ]
          },
          "metadata": {},
          "execution_count": 19
        }
      ]
    },
    {
      "cell_type": "code",
      "source": [
        "arr = np.arange(0,1,0.1)\n",
        "arr"
      ],
      "metadata": {
        "colab": {
          "base_uri": "https://localhost:8080/"
        },
        "id": "qiaf-HkmaRh8",
        "outputId": "adcb33db-55a9-41cd-fd14-ef17e9e0c3c7"
      },
      "execution_count": 21,
      "outputs": [
        {
          "output_type": "execute_result",
          "data": {
            "text/plain": [
              "array([0. , 0.1, 0.2, 0.3, 0.4, 0.5, 0.6, 0.7, 0.8, 0.9])"
            ]
          },
          "metadata": {},
          "execution_count": 21
        }
      ]
    },
    {
      "cell_type": "code",
      "source": [
        "data = [0, 1, 2, 3, 4, 5]\n",
        "\n",
        "arr = np.array(data)\n",
        "arr.reshape(2,3)"
      ],
      "metadata": {
        "colab": {
          "base_uri": "https://localhost:8080/"
        },
        "id": "E7CQiSG1aRg9",
        "outputId": "59dba619-1465-4f31-c071-de611978b1ee"
      },
      "execution_count": 27,
      "outputs": [
        {
          "output_type": "execute_result",
          "data": {
            "text/plain": [
              "array([[0, 1, 2],\n",
              "       [3, 4, 5]])"
            ]
          },
          "metadata": {},
          "execution_count": 27
        }
      ]
    },
    {
      "cell_type": "code",
      "source": [
        "arr = np.array([\n",
        "    [0, 1, 2],\n",
        "    [3, 4, 5]\n",
        "])\n",
        "\n",
        "#arr.reshape(1,6)\n",
        "arr.flatten()"
      ],
      "metadata": {
        "colab": {
          "base_uri": "https://localhost:8080/"
        },
        "id": "tEKrOT90bDz8",
        "outputId": "b4d0610a-8a55-4520-daeb-21165b2a4d85"
      },
      "execution_count": 30,
      "outputs": [
        {
          "output_type": "execute_result",
          "data": {
            "text/plain": [
              "array([0, 1, 2, 3, 4, 5])"
            ]
          },
          "metadata": {},
          "execution_count": 30
        }
      ]
    }
  ]
}